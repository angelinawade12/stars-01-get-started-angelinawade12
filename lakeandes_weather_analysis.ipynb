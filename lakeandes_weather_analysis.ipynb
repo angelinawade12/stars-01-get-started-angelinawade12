{
 "cells": [
  {
   "cell_type": "markdown",
   "metadata": {},
   "source": [
    "## Lake Andes Weather Analysis \n",
    "sentences"
   ]
  },
  {
   "cell_type": "code",
   "execution_count": 1,
   "metadata": {},
   "outputs": [],
   "source": [
    "# Import pandas\n",
    "import pandas as pd"
   ]
  },
  {
   "cell_type": "code",
   "execution_count": null,
   "metadata": {},
   "outputs": [],
   "source": [
    "# Bring in data from Lake Andes\n",
    "daily_sum = ('https://www.ncei.noaa.gov/access/services/da'\n",
    "'ta/v1?dataset=daily-summaries&dataTypes=TOBS,PRCP&stations'\n",
    "'=USC00396947&startDate=1949-10-01&endDate=2024-05-05&'\n",
    "'includeStationName=true&includeStation'\n",
    "'Location=1&units=standard')\n",
    "daily_sum"
   ]
  }
 ],
 "metadata": {
  "kernelspec": {
   "display_name": "base",
   "language": "python",
   "name": "python3"
  },
  "language_info": {
   "codemirror_mode": {
    "name": "ipython",
    "version": 3
   },
   "file_extension": ".py",
   "mimetype": "text/x-python",
   "name": "python",
   "nbconvert_exporter": "python",
   "pygments_lexer": "ipython3",
   "version": "3.11.6"
  }
 },
 "nbformat": 4,
 "nbformat_minor": 2
}
